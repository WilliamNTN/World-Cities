{
 "cells": [
  {
   "cell_type": "markdown",
   "metadata": {},
   "source": [
    "# World Cities\n",
    "\n",
    "This notebook will present the data science project to determine the likeness of some of the most popular cities in the world.\n",
    "\n",
    "This information is useful for traveling agencies to determine the best traveling packages to offer to clients, as well for alone-travelers who enjoyed one city, and would like to visit a similar one."
   ]
  },
  {
   "cell_type": "code",
   "execution_count": 260,
   "metadata": {},
   "outputs": [
    {
     "name": "stdout",
     "output_type": "stream",
     "text": [
      "Libs imported\n"
     ]
    }
   ],
   "source": [
    "#imports\n",
    "\n",
    "import pandas as pd\n",
    "import numpy as np\n",
    "import requests\n",
    "from bs4 import BeautifulSoup as BS\n",
    "import unicodedata\n",
    "import wget\n",
    "import json\n",
    "from collections import Counter\n",
    "from sklearn.preprocessing import MinMaxScaler\n",
    "import googlemaps\n",
    "import matplotlib.cm as cm\n",
    "import matplotlib.colors as colors\n",
    "from pandas.io.json import json_normalize # tranform JSON file into a pandas dataframe\n",
    "import matplotlib.cm as cm\n",
    "import matplotlib.colors as colors\n",
    "from geopy.geocoders import Nominatim\n",
    "#!conda install -c conda-forge folium=0.5.0 --yes\n",
    "import folium\n",
    "\n",
    "print(\"Libs imported\")\n"
   ]
  },
  {
   "cell_type": "markdown",
   "metadata": {},
   "source": [
    "First, we need to select the cities that will be used.\n",
    "\n",
    "This page shows a table with the most popular cities to visit: https://www.worldatlas.com/articles/the-most-popular-cities-in-the-world-to-visit.html.\n",
    "\n",
    "We are going to get the data from the table and use the 25 cities."
   ]
  },
  {
   "cell_type": "code",
   "execution_count": 73,
   "metadata": {},
   "outputs": [
    {
     "name": "stdout",
     "output_type": "stream",
     "text": [
      "0          Bangkok\n",
      "1           London\n",
      "2            Paris\n",
      "3            Dubai\n",
      "4         New York\n",
      "5        Singapore\n",
      "6     Kuala Lumpur\n",
      "7         Istanbul\n",
      "8            Tokyo\n",
      "9            Seoul\n",
      "10       Hong Kong\n",
      "11       Barcelona\n",
      "12       Amsterdam\n",
      "13           Milan\n",
      "14          Taipei\n",
      "15            Rome\n",
      "16           Osaka\n",
      "17          Vienna\n",
      "18        Shanghai\n",
      "19          Prague\n",
      "20     Los Angeles\n",
      "21          Madrid\n",
      "22          Munich\n",
      "23           Miami\n",
      "24          Dublin\n",
      "Name: City, dtype: object\n"
     ]
    }
   ],
   "source": [
    "url = \"https://www.worldatlas.com/articles/the-most-popular-cities-in-the-world-to-visit.html\"\n",
    "r = requests.get(url)\n",
    "soup = BS(r.text)\n",
    "\n",
    "table = soup.find(\"table\")\n",
    "rows = table.find_all(\"tr\")\n",
    "\n",
    "ls = []\n",
    "for tr in rows:\n",
    "    td = tr.find_all('td')\n",
    "    thisRow = [tr.text for tr in td]\n",
    "    ls.append(thisRow)\n",
    "\n",
    "data = pd.DataFrame(ls,columns=[\"Rank\",\"City\",\"Visitors\"])\n",
    "cities = data[\"City\"]\n",
    "cities = cities.iloc[1:,]\n",
    "cities.reset_index(inplace=True,drop=True)\n",
    "print(cities)"
   ]
  },
  {
   "cell_type": "markdown",
   "metadata": {},
   "source": [
    "Using geolocator to get cities lat and lng"
   ]
  },
  {
   "cell_type": "code",
   "execution_count": 58,
   "metadata": {},
   "outputs": [
    {
     "name": "stderr",
     "output_type": "stream",
     "text": [
      "/home/william/anaconda2/lib/python2.7/site-packages/ipykernel_launcher.py:1: DeprecationWarning: Using Nominatim with the default \"geopy/1.18.0\" `user_agent` is strongly discouraged, as it violates Nominatim's ToS https://operations.osmfoundation.org/policies/nominatim/ and may possibly cause 403 and 429 HTTP errors. Please specify a custom `user_agent` with `Nominatim(user_agent=\"my-application\")` or by overriding the default `user_agent`: `geopy.geocoders.options.default_user_agent = \"my-application\"`. In geopy 2.0 this will become an exception.\n",
      "  \"\"\"Entry point for launching an IPython kernel.\n"
     ]
    }
   ],
   "source": [
    "geolocator = Nominatim()\n",
    "latlng = []\n",
    "for city in cities:\n",
    "    location = geolocator.geocode(city)\n",
    "    latlng.append([location.latitude,location.longitude])"
   ]
  },
  {
   "cell_type": "code",
   "execution_count": 74,
   "metadata": {},
   "outputs": [
    {
     "name": "stdout",
     "output_type": "stream",
     "text": [
      "            City        Lat         Lng\n",
      "0        Bangkok  13.753893  100.816080\n",
      "1         London  51.507322   -0.127647\n",
      "2          Paris  48.856610    2.351499\n",
      "3          Dubai  25.075010   55.188761\n",
      "4       New York  40.730862  -73.987156\n",
      "5      Singapore   1.290475  103.852036\n",
      "6   Kuala Lumpur   3.151664  101.694303\n",
      "7       Istanbul  41.009633   28.965165\n",
      "8          Tokyo  35.682839  139.759455\n",
      "9          Seoul  37.566679  126.978291\n",
      "10     Hong Kong  22.279328  114.162813\n",
      "11     Barcelona  41.382894    2.177432\n",
      "12     Amsterdam  52.374540    4.897976\n",
      "13         Milan  45.466797    9.190498\n",
      "14        Taipei  25.037520  121.563680\n",
      "15          Rome  41.894802   12.485338\n",
      "16         Osaka  34.693757  135.501454\n",
      "17        Vienna  48.208354   16.372504\n",
      "18      Shanghai  31.225344  121.488892\n",
      "19        Prague  50.087465   14.421254\n",
      "20   Los Angeles  34.053683 -118.242767\n",
      "21        Madrid  40.416705   -3.703582\n",
      "22        Munich  48.137108   11.575382\n",
      "23         Miami  25.774266  -80.193659\n",
      "24        Dublin  53.349764   -6.260273\n"
     ]
    }
   ],
   "source": [
    "cities = pd.concat([cities,pd.DataFrame(latlng)],axis=1)\n",
    "cities.columns = [\"City\",\"Lat\",\"Lng\"]\n",
    "print(cities)"
   ]
  },
  {
   "cell_type": "markdown",
   "metadata": {},
   "source": [
    "Now, we need to figure out how a city will be described. we must be able to collect all the data from foursquare APIs.\n",
    "\n",
    "What I'm going to do is get all the possible venues for a city, and count is categories.\n",
    "\n",
    "The DataFrame will consist of the number of every venue category for each city.\n"
   ]
  },
  {
   "cell_type": "code",
   "execution_count": 76,
   "metadata": {},
   "outputs": [],
   "source": [
    "lines = [line.rstrip('\\n') for line in open('foursquareCredentials.txt')]\n",
    "\n",
    "credentials = dict(\n",
    "    client_id=lines[0],\n",
    "    client_secret=lines[1]\n",
    ")"
   ]
  },
  {
   "cell_type": "code",
   "execution_count": 185,
   "metadata": {},
   "outputs": [],
   "source": [
    "\n",
    "def getValue(latitude,longitude,credentials):\n",
    "    url = 'https://api.foursquare.com/v2/venues/explore'\n",
    "    params = dict(\n",
    "        client_id=credentials['client_id'],\n",
    "        client_secret=credentials['client_secret'],\n",
    "        v='20180323',\n",
    "        ll = str(latitude) + ',' + str(longitude),\n",
    "        radius=500,\n",
    "        limit=50000\n",
    "    )\n",
    "    resp = requests.get(url=url,params=params)\n",
    "    return resp\n",
    "\n",
    "def getDict(resp):\n",
    "    results = resp.json()\n",
    "    venues = results['response']['groups'][0]['items']\n",
    "    venues = json_normalize(venues)\n",
    "    cols = ['venue.name','venue.categories']\n",
    "    venuesCols = venues.loc[:,cols]\n",
    "    venuesCols['venue.categories'] = venuesCols.apply(get_category_type,axis=1)\n",
    "    categories = venuesCols['venue.categories']\n",
    "    categoriesUnique = pd.DataFrame(categories.unique())\n",
    "    counts = Counter(categories)\n",
    "    return dict(counts)"
   ]
  },
  {
   "cell_type": "code",
   "execution_count": 186,
   "metadata": {},
   "outputs": [],
   "source": [
    "def get_category_type(row):\n",
    "    try:\n",
    "        categories_list = row['categories']\n",
    "    except:\n",
    "        categories_list = row['venue.categories']\n",
    "        \n",
    "    if len(categories_list) == 0:\n",
    "        return None\n",
    "    else:\n",
    "        return categories_list[0]['name']"
   ]
  },
  {
   "cell_type": "code",
   "execution_count": 196,
   "metadata": {},
   "outputs": [],
   "source": [
    "citiesDict = []\n",
    "for lat,lng in zip(cities[\"Lat\"],cities[\"Lng\"]):\n",
    "    resp = getValue(lat,lng,credentials)\n",
    "    dd = getDict(resp)\n",
    "    citiesDict.append(dd)"
   ]
  },
  {
   "cell_type": "markdown",
   "metadata": {},
   "source": [
    "Here, I'm going to separate all the possible categories returned by foursquare, and usem them as columns"
   ]
  },
  {
   "cell_type": "code",
   "execution_count": 238,
   "metadata": {
    "scrolled": true
   },
   "outputs": [
    {
     "name": "stdout",
     "output_type": "stream",
     "text": [
      "1071\n",
      "(25, 284)\n",
      "(25, 284)\n",
      "   Fast Food Restaurant  Gukbap Restaurant  Argentinian Restaurant  Boutique  \\\n",
      "0                   0.0                0.0                     0.0       0.0   \n",
      "1                   0.0                0.0                     0.0       1.0   \n",
      "2                   0.0                0.0                     0.0       0.0   \n",
      "3                   0.0                0.0                     0.0       0.0   \n",
      "4                   0.0                0.0                     0.0       0.0   \n",
      "5                   0.0                0.0                     0.0       0.0   \n",
      "6                   0.0                0.0                     0.0       2.0   \n",
      "7                   1.0                0.0                     0.0       1.0   \n",
      "8                   0.0                0.0                     0.0       0.0   \n",
      "9                   0.0                1.0                     0.0       0.0   \n",
      "\n",
      "   Wine Bar  Unagi Restaurant  Fish Market  Botanical Garden  Pub  \\\n",
      "0       0.0               0.0          0.0               0.0  0.0   \n",
      "1       3.0               0.0          0.0               0.0  3.0   \n",
      "2       1.0               0.0          0.0               0.0  2.0   \n",
      "3       0.0               0.0          0.0               0.0  0.0   \n",
      "4       1.0               0.0          0.0               0.0  1.0   \n",
      "5       0.0               0.0          0.0               0.0  0.0   \n",
      "6       1.0               0.0          0.0               0.0  0.0   \n",
      "7       0.0               0.0          0.0               0.0  0.0   \n",
      "8       0.0               0.0          0.0               0.0  0.0   \n",
      "9       0.0               0.0          0.0               0.0  2.0   \n",
      "\n",
      "   Italian Restaurant      ...        Gay Bar  Juice Bar  Doner Restaurant  \\\n",
      "0                 0.0      ...            0.0        0.0               0.0   \n",
      "1                 0.0      ...            2.0        0.0               0.0   \n",
      "2                 0.0      ...            2.0        0.0               0.0   \n",
      "3                 1.0      ...            0.0        0.0               0.0   \n",
      "4                 2.0      ...            0.0        2.0               0.0   \n",
      "5                 3.0      ...            0.0        0.0               0.0   \n",
      "6                 0.0      ...            0.0        0.0               0.0   \n",
      "7                 0.0      ...            0.0        0.0               2.0   \n",
      "8                 5.0      ...            0.0        0.0               0.0   \n",
      "9                 2.0      ...            0.0        0.0               0.0   \n",
      "\n",
      "   BBQ Joint  Multiplex  Print Shop  Government Building  History Museum  \\\n",
      "0        0.0        0.0         0.0                  0.0             0.0   \n",
      "1        0.0        0.0         0.0                  0.0             1.0   \n",
      "2        0.0        0.0         0.0                  0.0             0.0   \n",
      "3        0.0        0.0         0.0                  0.0             0.0   \n",
      "4        1.0        0.0         0.0                  0.0             0.0   \n",
      "5        1.0        0.0         0.0                  0.0             1.0   \n",
      "6        0.0        0.0         0.0                  1.0             1.0   \n",
      "7        1.0        0.0         0.0                  0.0             0.0   \n",
      "8        1.0        0.0         0.0                  0.0             0.0   \n",
      "9        2.0        0.0         0.0                  0.0             0.0   \n",
      "\n",
      "   Cafeteria  Women's Store  \n",
      "0        0.0            0.0  \n",
      "1        0.0            0.0  \n",
      "2        0.0            1.0  \n",
      "3        0.0            0.0  \n",
      "4        0.0            0.0  \n",
      "5        0.0            0.0  \n",
      "6        2.0            0.0  \n",
      "7        0.0            0.0  \n",
      "8        0.0            0.0  \n",
      "9        0.0            0.0  \n",
      "\n",
      "[10 rows x 284 columns]\n"
     ]
    }
   ],
   "source": [
    "totalCategories = []\n",
    "for dt in citiesDict:\n",
    "    totalCategories = totalCategories + dt.keys()\n",
    "\n",
    "print(len(totalCategories))\n",
    "uniques = set(totalCategories)\n",
    "\n",
    "clusterData = pd.DataFrame(np.zeros((25,284)),columns=uniques)\n",
    "print(clusterData.shape)\n",
    "\n"
   ]
  },
  {
   "cell_type": "markdown",
   "metadata": {},
   "source": [
    "Now, for each city, lets set the number of each venue category"
   ]
  },
  {
   "cell_type": "code",
   "execution_count": 266,
   "metadata": {},
   "outputs": [
    {
     "name": "stdout",
     "output_type": "stream",
     "text": [
      "(25, 284)\n"
     ]
    }
   ],
   "source": [
    "for i,dt in enumerate(citiesDict):\n",
    "    row = []\n",
    "    for col in clusterData.columns:\n",
    "        if col in dt.keys():\n",
    "            row = row + [dt[col]]\n",
    "        else:\n",
    "            row = row+[0]\n",
    "    clusterData.iloc[i,:] = row\n",
    "print(clusterData.shape)"
   ]
  },
  {
   "cell_type": "markdown",
   "metadata": {},
   "source": [
    "Using KMEANS with 5 clusters to get the most similar cities"
   ]
  },
  {
   "cell_type": "code",
   "execution_count": 242,
   "metadata": {},
   "outputs": [
    {
     "name": "stdout",
     "output_type": "stream",
     "text": [
      "[1 1 1 1 1 1 1 1 1 4 1 3 1 2 1 2 1 2 1 2 1 3 1 1 0]\n",
      "Counter({1: 17, 2: 4, 3: 2, 0: 1, 4: 1})\n"
     ]
    }
   ],
   "source": [
    "from sklearn.cluster import KMeans\n",
    "\n",
    "model = KMeans(n_clusters=5)\n",
    "model = model.fit(clusterData)\n",
    "print(model.labels_)\n",
    "print(Counter(model.labels_))"
   ]
  },
  {
   "cell_type": "markdown",
   "metadata": {},
   "source": [
    "plotting the results, where the color indicates de cluster"
   ]
  },
  {
   "cell_type": "code",
   "execution_count": 267,
   "metadata": {},
   "outputs": [
    {
     "data": {
      "text/html": [
       "<div style=\"width:100%;\"><div style=\"position:relative;width:100%;height:0;padding-bottom:60%;\"><iframe src=\"data:text/html;charset=utf-8;base64,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\" style=\"position:absolute;width:100%;height:100%;left:0;top:0;border:none !important;\" allowfullscreen webkitallowfullscreen mozallowfullscreen></iframe></div></div>"
      ],
      "text/plain": [
       "<folium.folium.Map at 0x7f942dfdb210>"
      ]
     },
     "execution_count": 267,
     "metadata": {},
     "output_type": "execute_result"
    }
   ],
   "source": [
    "map_clusters = folium.Map(location=[0,0],zoom_start=2)\n",
    "\n",
    "x = np.arange(5)\n",
    "ys = [i+x+(i*x)**2 for i in range(5)]\n",
    "colors_array = cm.rainbow(np.linspace(0,1,len(ys)))\n",
    "rainbow = [colors.rgb2hex(i) for i in colors_array]\n",
    "\n",
    "for lat,lng,poi,cluster in zip(cities[\"Lat\"],cities[\"Lng\"],cities[\"City\"],model.labels_):\n",
    "    label = folium.Popup(poi)\n",
    "    folium.CircleMarker(\n",
    "        [lat,lng],\n",
    "        radius=5,\n",
    "        popup = label,\n",
    "        color=rainbow[cluster],\n",
    "        fill=True,\n",
    "        fill_color = rainbow[cluster],\n",
    "        fill_opacity=1).add_to(map_clusters)\n",
    "\n",
    "\n",
    "map_clusters"
   ]
  },
  {
   "cell_type": "markdown",
   "metadata": {},
   "source": []
  }
 ],
 "metadata": {
  "kernelspec": {
   "display_name": "Python 2",
   "language": "python",
   "name": "python2"
  },
  "language_info": {
   "codemirror_mode": {
    "name": "ipython",
    "version": 2
   },
   "file_extension": ".py",
   "mimetype": "text/x-python",
   "name": "python",
   "nbconvert_exporter": "python",
   "pygments_lexer": "ipython2",
   "version": "2.7.15"
  }
 },
 "nbformat": 4,
 "nbformat_minor": 2
}
